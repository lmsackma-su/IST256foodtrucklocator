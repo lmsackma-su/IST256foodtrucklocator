{
 "cells": [
  {
   "cell_type": "markdown",
   "metadata": {},
   "source": [
    "# Welcome to Boston! \n",
    "# ************************\n",
    "# We're taking the Boston Food Tour Experience to a Whole Other Level. "
   ]
  },
  {
   "cell_type": "markdown",
   "metadata": {},
   "source": [
    "# This is a Food Truck Tracker App Suited for Your Convenience"
   ]
  },
  {
   "cell_type": "markdown",
   "metadata": {},
   "source": [
    "ALGORITHM: \n",
    "\n",
    "1. Intro to the app will be given saying “Welcome to Boston! ” \n",
    "2. Person will input their city \n",
    "3. Person will be asked to input any monumental sites/prominent tourist attractions that they are near (clearly identifiable locations for OpenStreetMap\n",
    "4. OpenStreetMap API will generate latitudes and longitudes \n",
    "5. FoodTruck API will automatically generate the closest vendors in a 0.02° latitude/longitude difference (around 10 mile radius)\n",
    "6. Output name of vendor, descriptions of food trucks, phone, email, and lat/lon coordinates (if any)\n",
    "7. Markers will be placed on each vendor on a Folium Map\n",
    "8. Vendors will then be displayed on a Folium Map so the user is familiar with each location of the truck! \n"
   ]
  },
  {
   "cell_type": "code",
   "execution_count": 39,
   "metadata": {},
   "outputs": [
    {
     "name": "stdout",
     "output_type": "stream",
     "text": [
      "Welcome to Boston! We're taking the ultimate Boston Food Tour experience to a whole other level.\n",
      "******************\n",
      "Where are you? Enter a monumental/very popular building or tourist attraction near you in Boston!(for example: MIT, Fenway Park etc.):  Mit\n",
      "\n",
      "\n",
      "Bon Me 10\n",
      "Bold, Fresh, and Fun Asian cuisine.\n",
      "bonmetruck.com\n",
      "(617) 989-9804\n",
      "Vendor Coordinates: Latitude  42.37602546 , Longitude  -71.11588409\n",
      "\n",
      "\n",
      "\n",
      "\n",
      "Sweet Tomatoes Pizza\n",
      "A thin crust Neapolitan style pizzeria gone mobile.\n",
      "sweettomatoespizzatruck.com\n",
      "None\n",
      "Vendor Coordinates: Latitude  42.37602546 , Longitude  -71.11588409\n",
      "\n",
      "\n"
     ]
    }
   ],
   "source": [
    "import requests, json\n",
    "\n",
    "#Alexa: function getting schedule/data on food vendors/ ACCESSING API BASICALLY\n",
    "def nearest_food_truck(city):\n",
    "    try: \n",
    "        params = {'city': city} \n",
    "        response = requests.get('http://data.streetfoodapp.com/1.1/schedule/%s' % city,params=params)\n",
    "        #error handling\n",
    "        if response.ok:\n",
    "            schedule_data = response.json()\n",
    "            return schedule_data\n",
    "        else: \n",
    "            print(\"There was an Error requesting:\", url, \" HTTP Response Code: \", response.status_code)\n",
    "    #ERROR HANDLING IN CASE INTERNET IS DOWN/MALFUNCTION HAS OCCURRED! \n",
    "    except requests.exceptions.RequestException as e:\n",
    "        print(\"Whoops! Internet down. Cannot connect to our food tracker whiz.\")\n",
    "        print(\"DETAILS:\", e)\n",
    "    except json.decoder.JSONDecodeError as e: \n",
    "        print(\"ERROR: Cannot decode the response into json\")\n",
    "        print(\"DETAILS\", e)\n",
    "    \n",
    "    except requests.exceptions.HTTPError as e:\n",
    "        print(\"ERROR: Response from \", url, \"was not ok.\")\n",
    "        print(\"DETAILS:\", e)\n",
    "    \n",
    "    except requests.exceptions.RequestException as e: \n",
    "        print(\"ERROR: Cannot connect to \", url)\n",
    "        print(\"DETAILS:\", e)\n",
    "\n",
    "\n",
    "#Alexa: function getting person's coordinates\n",
    "def get_coords(search):\n",
    "    try: \n",
    "        url = 'https://nominatim.openstreetmap.org/search' \n",
    "        search=location\n",
    "        options = { 'q' : search, 'format' : 'json'}\n",
    "        response = requests.get(url, params = options)            \n",
    "        geodata = response.json()\n",
    "        coords = [float(geodata[0]['lat']), float(geodata[0]['lon'])]\n",
    "        return coords\n",
    "    #ERROR HANDLING IN CASE INTERNET IS DOWN/MALFUNCTION OCCURED! \n",
    "    except requests.exceptions.RequestException as e:\n",
    "        print(\"Whoops! Internet down. Cannot connect to\", url)\n",
    "        print(\"DETAILS:\", e)\n",
    "        \n",
    "    except json.decoder.JSONDecodeError as e: \n",
    "        print(\"ERROR: Cannot decode the response into json\")\n",
    "        print(\"DETAILS\", e)\n",
    "    \n",
    "    except requests.exceptions.HTTPError as e:\n",
    "        print(\"ERROR: Response from \", url, \"was not ok.\")\n",
    "        print(\"DETAILS:\", e)\n",
    "    \n",
    "    except requests.exceptions.RequestException as e: \n",
    "        print(\"ERROR: Cannot connect to \", url)\n",
    "        print(\"DETAILS:\", e)\n",
    "\n",
    "closest_vendors = nearest_food_truck('boston')   \n",
    "\n",
    "#Lily: function finding closest vendors near user\n",
    "def foodnearme(search):\n",
    "    coords = get_coords(search)\n",
    "    #opening list of vendors \n",
    "    lst = []\n",
    "    #storing nearest food trucks into a variable\n",
    "    closest_vendors = nearest_food_truck('boston')\n",
    "    for store in closest_vendors['vendors']:\n",
    "        storelat = closest_vendors['vendors'][store]['last']['latitude']\n",
    "        storelon = closest_vendors['vendors'][store]['last']['longitude']\n",
    "        mylat=coords[0]\n",
    "        mylon=coords[1]\n",
    "        #error handling\n",
    "        if storelat<=mylat + 0.01 and storelat>= mylat - 0.01:\n",
    "            if storelon<=mylon + 0.01 and storelon>=mylon - 0.01:\n",
    "                 lst.append(store)\n",
    "    return lst\n",
    "\n",
    "#Alexa: function finding vendors' coords\n",
    "def findcoords(storename):\n",
    "    lat = data['vendors'][storename]['last']['latitude']\n",
    "    lon = data['vendors'][storename]['last']['longitude']\n",
    "    return lat,lon\n",
    "\n",
    "#Alexa: function getting person's location on map \n",
    "def map_userlocation(coords):\n",
    "    CENTER_BOSTON = (42.3601,-71.0589)\n",
    "    map=folium.Map(location=CENTER_BOSTON, zoom_start=13)\n",
    "    lat=coords['lat']\n",
    "    lng=coords['lon']\n",
    "    message = '%s' % ('You are here at', search, 'in Boston')\n",
    "    marker=folium.Marker(location=(lat, lng), popup=message)\n",
    "    map\n",
    "\n",
    "#Lily: testing final program \n",
    "print(\"Welcome to Boston! We're taking the ultimate Boston Food Tour experience to a whole other level.\")\n",
    "print(\"******************\")\n",
    "location = input(\"Where are you? Enter a monumental/very popular building or tourist attraction near you in Boston!(for example: MIT, Fenway Park etc.):  \")\n",
    "trucks =  foodnearme(location)\n",
    "for store in closest_vendors['vendors']:\n",
    "    storelat = closest_vendors['vendors'][store]['last']['latitude']\n",
    "    storelon = closest_vendors['vendors'][store]['last']['longitude']\n",
    "if len(trucks) == 0: \n",
    "    print(\"Hmmm looks like there are no food trucks near you at the moment. Heard MIT is a food truck hotspot!\")\n",
    "for truck in trucks:\n",
    "    print('\\n')\n",
    "    print(closest_vendors['vendors'][truck]['name'])\n",
    "    print(closest_vendors['vendors'][truck]['description'])\n",
    "    print(closest_vendors['vendors'][truck]['url'])\n",
    "    print(closest_vendors['vendors'][truck]['phone'])\n",
    "    print('Vendor Coordinates: Latitude ',storelat,', Longitude ', storelon)\n",
    "    print('\\n')"
   ]
  },
  {
   "cell_type": "code",
   "execution_count": 41,
   "metadata": {
    "scrolled": false
   },
   "outputs": [
    {
     "name": "stdout",
     "output_type": "stream",
     "text": [
      "So where the heck are these delicious food vendors?!?! Let's get a map! \n",
      "**********************************************\n",
      "Sorry, where are you again?:  fenway\n"
     ]
    },
    {
     "data": {
      "text/html": [
       "<div style=\"width:100%;\"><div style=\"position:relative;width:100%;height:0;padding-bottom:60%;\"><iframe src=\"data:text/html;charset=utf-8;base64,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\" style=\"position:absolute;width:100%;height:100%;left:0;top:0;border:none !important;\" allowfullscreen webkitallowfullscreen mozallowfullscreen></iframe></div></div>"
      ],
      "text/plain": [
       "<folium.folium.Map at 0x10dac4ba8>"
      ]
     },
     "execution_count": 41,
     "metadata": {},
     "output_type": "execute_result"
    }
   ],
   "source": [
    "#Lily: getting vendors location on map \n",
    "import folium\n",
    "import random\n",
    "import pandas as pd \n",
    "\n",
    "print(\"So where the heck are these delicious food vendors?!?! Let's get a map! \")\n",
    "print(\"**********************************************\")\n",
    "location = input(\"Sorry, where are you again?:  \")\n",
    "CENTER_BOSTON=(42.3601, -71.0589)\n",
    "map = folium.Map(location=CENTER_BOSTON, zoom_start=15)\n",
    "#trucks =  foodnearme(location)\n",
    "colors = ['red', 'blue', 'green', 'purple', 'orange', 'darkred',\n",
    "            'lightred', 'beige', 'darkblue', 'darkgreen', 'cadetblue',\n",
    "            'darkpurple', 'pink', 'lightblue', 'lightgreen',\n",
    "            'gray', 'black', 'lightgray']\n",
    "storename = (closest_vendors['vendors'][truck]['name'])\n",
    "storedescription = (closest_vendors['vendors'][truck]['description'])\n",
    "storeurl=(closest_vendors['vendors'][truck]['url'])\n",
    "storephone=(closest_vendors['vendors'][truck]['phone'])\n",
    "for store in trucks:\n",
    "    storelat = closest_vendors['vendors'][store]['last']['latitude']\n",
    "    storelon = closest_vendors['vendors'][store]['last']['longitude']\n",
    "    storecoords=(storelat, storelon)\n",
    "    storename1 = store.title()\n",
    "    storename1 = storename1.replace('-',' ')\n",
    "    marker = folium.Marker(location=storecoords,\n",
    "                           popup=str(storename1),\n",
    "                           icon = folium.Icon(color = random.choice(colors), icon='user')\n",
    "                          )\n",
    "    map.add_child(marker)  \n",
    "map"
   ]
  },
  {
   "cell_type": "code",
   "execution_count": null,
   "metadata": {},
   "outputs": [],
   "source": []
  }
 ],
 "metadata": {
  "kernelspec": {
   "display_name": "Python 3",
   "language": "python",
   "name": "python3"
  },
  "language_info": {
   "codemirror_mode": {
    "name": "ipython",
    "version": 3
   },
   "file_extension": ".py",
   "mimetype": "text/x-python",
   "name": "python",
   "nbconvert_exporter": "python",
   "pygments_lexer": "ipython3",
   "version": "3.6.6"
  }
 },
 "nbformat": 4,
 "nbformat_minor": 2
}
